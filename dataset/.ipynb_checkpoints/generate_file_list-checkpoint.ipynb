{
 "cells": [
  {
   "cell_type": "code",
   "execution_count": 1,
   "metadata": {},
   "outputs": [],
   "source": [
    "import os"
   ]
  },
  {
   "cell_type": "code",
   "execution_count": 2,
   "metadata": {},
   "outputs": [],
   "source": [
    "rootA = \"/datasets/ee285f-public/wikiart/wikiart\"\n",
    "rootB = \"/datasets/ee285f-public/flickr_landscape\"\n",
    "folderA = os.listdir(rootA)\n",
    "folderB = os.listdir(rootB)"
   ]
  },
  {
   "cell_type": "code",
   "execution_count": 8,
   "metadata": {},
   "outputs": [],
   "source": [
    "count = 0\n",
    "files = []\n",
    "for folder in folderB:\n",
    "    if '.' in folder or folder==\"licenses\":\n",
    "       continue\n",
    "    else:\n",
    "        count += len(os.listdir(os.path.join(rootB, folder)))  \n",
    "\n",
    "        for file in os.listdir(os.path.join(rootB, folder)):\n",
    "            files.append(os.path.join(rootB, folder, file)+'\\n')\n",
    "\n",
    "with open(\"flickr_landscape\",\"w\") as f:\n",
    "    f.writelines(files)"
   ]
  },
  {
   "cell_type": "code",
   "execution_count": 7,
   "metadata": {},
   "outputs": [],
   "source": [
    "with open(\"/datasets/ee285f-public/wikiart/Artist/artist_train\") as f:\n",
    "    arts = f.readlines()\n",
    "\n",
    "if not os.path.exists(\"artists\"):\n",
    "    os.mkdir(\"artists\")\n",
    "\n",
    "for i in range(23):\n",
    "    count = 0\n",
    "    art_list = []\n",
    "    \n",
    "    for line in arts[2:]:\n",
    "        split_arts = line.split(\",,\")\n",
    "        if split_arts[1] == str(i)+\"\\n\":\n",
    "            count+=1\n",
    "            art_list.append(os.path.join(rootA, split_arts[0])+\"\\n\")\n",
    "    with open(\"./artists/{}\".format(i), \"w\") as f:\n",
    "        f.writelines(art_list)\n"
   ]
  },
  {
   "cell_type": "code",
   "execution_count": null,
   "metadata": {},
   "outputs": [],
   "source": []
  },
  {
   "cell_type": "code",
   "execution_count": null,
   "metadata": {},
   "outputs": [],
   "source": []
  }
 ],
 "metadata": {
  "kernelspec": {
   "display_name": "Python 3",
   "language": "python",
   "name": "python3"
  },
  "language_info": {
   "codemirror_mode": {
    "name": "ipython",
    "version": 3
   },
   "file_extension": ".py",
   "mimetype": "text/x-python",
   "name": "python",
   "nbconvert_exporter": "python",
   "pygments_lexer": "ipython3",
   "version": "3.7.3"
  }
 },
 "nbformat": 4,
 "nbformat_minor": 2
}
